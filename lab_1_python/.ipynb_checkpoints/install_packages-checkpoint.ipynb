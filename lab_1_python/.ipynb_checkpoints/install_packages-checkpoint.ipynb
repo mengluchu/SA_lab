{
 "cells": [
  {
   "cell_type": "markdown",
   "metadata": {},
   "source": [
    "Before installing packages, a good practice is to create a  \n",
    "[conda environment] (https://conda.io/projects/conda/en/latest/user-guide/getting-started.html). The packages  installed in this environment won't mess up with packages installed in the base or other environments. "
   ]
  },
  {
   "cell_type": "markdown",
   "metadata": {},
   "source": [
    "After you activate your environment, you can install one or multiple packages using conda install or pip install. Very strictly speaking, when doing a long-term project, you should try to download packages from consistent channels and sources, e.g. conda forge: \n",
    "\n",
    "\n",
    "**mamba install -c conda-forge numpy**\n",
    "\n",
    "\n",
    "as it might be a pain later for avoiding all the conflictions between python packages. But sometimes some packages are only available in certain repositories. In this course, as we use mostly well-tested (i.e. stable) packages, if you install packages from different repositories or sources, most likely it will still work. \n",
    "\n",
    "If you use [google colab] (https://colab.research.google.com/), many of these packages are pre-installed. "
   ]
  },
  {
   "cell_type": "markdown",
   "metadata": {},
   "source": [
    "You can also install packages from the notebook. \"!\" is a magic key for running the command line after it. "
   ]
  },
  {
   "cell_type": "code",
   "execution_count": null,
   "metadata": {},
   "outputs": [
    {
     "name": "stdout",
     "output_type": "stream",
     "text": [
      "\n",
      "                  __    __    __    __\n",
      "                 /  \\  /  \\  /  \\  /  \\\n",
      "                /    \\/    \\/    \\/    \\\n",
      "███████████████/  /██/  /██/  /██/  /████████████████████████\n",
      "              /  / \\   / \\   / \\   / \\  \\____\n",
      "             /  /   \\_/   \\_/   \\_/   \\    o \\__,\n",
      "            / _/                       \\_____/  `\n",
      "            |/\n",
      "        ███╗   ███╗ █████╗ ███╗   ███╗██████╗  █████╗\n",
      "        ████╗ ████║██╔══██╗████╗ ████║██╔══██╗██╔══██╗\n",
      "        ██╔████╔██║███████║██╔████╔██║██████╔╝███████║\n",
      "        ██║╚██╔╝██║██╔══██║██║╚██╔╝██║██╔══██╗██╔══██║\n",
      "        ██�� ╚═╝ ██║██║  ██║██║ ╚═╝ ██║██████╔╝██║  ██║\n",
      "        ╚═╝     ╚═╝╚═╝  ╚═╝╚═╝     ╚═╝╚═════╝ ╚═╝  ╚═╝\n",
      "\n",
      "        mamba (0.4.2) supported by @QuantStack\n",
      "\n",
      "        GitHub:  https://github.com/QuantStack/mamba\n",
      "        Twitter: https://twitter.com/QuantStack\n",
      "\n",
      "█████████████████████████████████████████████████████████████\n",
      "\n",
      "pkgs/r/osx-64            [>                   ] (--:--) No change\n",
      "pkgs/r/osx-64            [====================] (00m:00s) No change\n",
      "pkgs/r/osx-64            [====================] (00m:00s) No change\n",
      "pkgs/main/noarch         [>                   ] (--:--) No change\n",
      "pkgs/main/noarch         [====================] (00m:00s) No change\n",
      "pkgs/main/noarch         [====================] (00m:00s) No change\n",
      "pkgs/main/osx-64         [>                   ] (--:--) No change\n",
      "pkgs/main/osx-64         [====================] (00m:00s) No change\n",
      "pkgs/main/osx-64         [====================] (00m:00s) No change\n",
      "conda-forge/osx-64       [>                   ] (--:--) No change\n",
      "conda-forge/osx-64       [====================] (00m:00s) No change\n",
      "conda-forge/osx-64       [====================] (00m:00s) No change\n",
      "pkgs/r/noarch            [>                   ] (--:--) No change\n",
      "pkgs/r/noarch            [====================] (00m:00s) No change\n",
      "pkgs/r/noarch            [====================] (00m:00s) No change\n",
      "conda-forge/noarch       [>                   ] (--:--) No change\n",
      "conda-forge/noarch       [====================] (00m:00s) No change\n",
      "conda-forge/noarch       [====================] (00m:00s) No change\n",
      "\n",
      "Looking for: ['numpy']\n",
      "\n"
     ]
    }
   ],
   "source": [
    "# install from mamba, channel conda forge: https://conda-forge.org/\n",
    "!mamba install -c conda-forge numpy\n",
    "#conda install numpy pandas matplotlib\n",
    "!mamba install -c conda-forge numpy pandas\n",
    "#you can also install multiple packages \n",
    "\n",
    "# install from pipy: https://pypi.org/\n",
    "!pip install numpy \n",
    "!pip install numpy pandas matplotlib #installing multiple packages\n",
    "  \n"
   ]
  },
  {
   "cell_type": "code",
   "execution_count": null,
   "metadata": {},
   "outputs": [],
   "source": []
  }
 ],
 "metadata": {
  "kernelspec": {
   "display_name": "Python 3 (ipykernel)",
   "language": "python",
   "name": "python3"
  },
  "language_info": {
   "codemirror_mode": {
    "name": "ipython",
    "version": 3
   },
   "file_extension": ".py",
   "mimetype": "text/x-python",
   "name": "python",
   "nbconvert_exporter": "python",
   "pygments_lexer": "ipython3",
   "version": "3.10.1"
  },
  "toc": {
   "base_numbering": 1,
   "nav_menu": {},
   "number_sections": true,
   "sideBar": true,
   "skip_h1_title": false,
   "title_cell": "Table of Contents",
   "title_sidebar": "Contents",
   "toc_cell": false,
   "toc_position": {},
   "toc_section_display": true,
   "toc_window_display": false
  }
 },
 "nbformat": 4,
 "nbformat_minor": 4
}
