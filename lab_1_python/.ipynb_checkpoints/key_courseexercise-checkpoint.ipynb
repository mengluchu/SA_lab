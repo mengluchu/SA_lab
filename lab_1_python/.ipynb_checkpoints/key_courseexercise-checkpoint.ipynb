{
 "cells": [
  {
   "cell_type": "code",
   "execution_count": 1,
   "id": "23c7ad92",
   "metadata": {},
   "outputs": [
    {
     "data": {
      "text/plain": [
       "23341668"
      ]
     },
     "execution_count": 1,
     "metadata": {},
     "output_type": "execute_result"
    }
   ],
   "source": [
    "a = 0\n",
    "for x in range(10001):\n",
    "    if(x%3 ==0 or x%5 ==0):\n",
    "        a+=x\n",
    "a\n",
    "\n"
   ]
  },
  {
   "cell_type": "code",
   "execution_count": null,
   "id": "6508d5cb",
   "metadata": {},
   "outputs": [],
   "source": [
    "def factorial(x):\n",
    "    x1 = x\n",
    "    while x1 > 1:\n",
    "            x*=(x1-1)\n",
    "            x1 = x1-1\n",
    "    return(x)\n"
   ]
  },
  {
   "cell_type": "code",
   "execution_count": null,
   "id": "9ce31969",
   "metadata": {},
   "outputs": [],
   "source": [
    "#check results\n",
    "import math\n",
    "math.factorial(14)==factorial(14) "
   ]
  },
  {
   "cell_type": "code",
   "execution_count": 12,
   "id": "d2551dd5",
   "metadata": {},
   "outputs": [],
   "source": [
    "num = [num for num in range(10,20) if num % 2 == 0]"
   ]
  },
  {
   "cell_type": "code",
   "execution_count": 13,
   "id": "e618fc8e",
   "metadata": {},
   "outputs": [
    {
     "data": {
      "text/plain": [
       "[15.0, 18.0, 21.0, 24.0, 27.0]"
      ]
     },
     "execution_count": 13,
     "metadata": {},
     "output_type": "execute_result"
    }
   ],
   "source": [
    "[x*1.5 for x in num]"
   ]
  },
  {
   "cell_type": "code",
   "execution_count": 14,
   "id": "05fc63e0",
   "metadata": {},
   "outputs": [
    {
     "data": {
      "text/plain": [
       "[]"
      ]
     },
     "execution_count": 14,
     "metadata": {},
     "output_type": "execute_result"
    }
   ],
   "source": [
    "[var for var in num if var > 20]"
   ]
  },
  {
   "cell_type": "code",
   "execution_count": null,
   "id": "61e899b5",
   "metadata": {},
   "outputs": [],
   "source": []
  }
 ],
 "metadata": {
  "kernelspec": {
   "display_name": "Python 3",
   "language": "python",
   "name": "python3"
  },
  "language_info": {
   "codemirror_mode": {
    "name": "ipython",
    "version": 3
   },
   "file_extension": ".py",
   "mimetype": "text/x-python",
   "name": "python",
   "nbconvert_exporter": "python",
   "pygments_lexer": "ipython3",
   "version": "3.8.8"
  },
  "toc": {
   "base_numbering": 1,
   "nav_menu": {},
   "number_sections": true,
   "sideBar": true,
   "skip_h1_title": false,
   "title_cell": "Table of Contents",
   "title_sidebar": "Contents",
   "toc_cell": false,
   "toc_position": {},
   "toc_section_display": true,
   "toc_window_display": false
  }
 },
 "nbformat": 4,
 "nbformat_minor": 5
}
