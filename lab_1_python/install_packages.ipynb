{
 "cells": [
  {
   "cell_type": "markdown",
   "metadata": {},
   "source": [
    "Before installing packages, a good practice is to create a  \n",
    "[conda environment] (https://conda.io/projects/conda/en/latest/user-guide/getting-started.html). The packages  installed in this environment won't mess up with packages installed in the base or other environments. "
   ]
  },
  {
   "cell_type": "markdown",
   "metadata": {},
   "source": [
    "After you activate your environment, you can install one or multiple packages using conda install or pip install. Very strictly speaking, when doing a long-term project, you should try to download packages from consistent channels and sources, e.g. conda forge: \n",
    "\n",
    "\n",
    "**conda install -c conda-forge numpy**\n",
    "\n",
    "\n",
    "as it might be a pain later for avoiding all the conflictions between python packages. But sometimes some packages are only available in certain repositories. In this course, as we use mostly well-tested (i.e. stable) packages, if you install packages from different repositories or sources, most likely it will still work. \n",
    "\n",
    "If you use [google colab] (https://colab.research.google.com/), many of these packages are pre-installed. "
   ]
  },
  {
   "cell_type": "markdown",
   "metadata": {},
   "source": [
    "You can also install packages from the notebook. \"!\" is a magic key for running the command line after it. "
   ]
  },
  {
   "cell_type": "code",
   "execution_count": 3,
   "metadata": {},
   "outputs": [
    {
     "name": "stdout",
     "output_type": "stream",
     "text": [
      "Collecting package metadata (current_repodata.json): done\n",
      "Solving environment: done\n",
      "\n",
      "\n",
      "==> WARNING: A newer version of conda exists. <==\n",
      "  current version: 4.9.2\n",
      "  latest version: 4.10.0\n",
      "\n",
      "Please update conda by running\n",
      "\n",
      "    $ conda update -n base conda\n",
      "\n",
      "\n",
      "\n",
      "# All requested packages already installed.\n",
      "\n",
      "Collecting package metadata (current_repodata.json): done\n",
      "Solving environment: done\n",
      "\n",
      "\n",
      "==> WARNING: A newer version of conda exists. <==\n",
      "  current version: 4.9.2\n",
      "  latest version: 4.10.0\n",
      "\n",
      "Please update conda by running\n",
      "\n",
      "    $ conda update -n base conda\n",
      "\n",
      "\n",
      "\n",
      "# All requested packages already installed.\n",
      "\n",
      "Requirement already satisfied: numpy in /Users/menglu/opt/anaconda3/envs/geoml/lib/python3.9/site-packages (1.20.2)\n"
     ]
    }
   ],
   "source": [
    "# install from conda, channel forge: https://conda-forge.org/\n",
    "!conda install -c conda-forge numpy\n",
    "#conda install numpy pandas matplotlib\n",
    "!conda install -c conda-forge numpy pandas\n",
    "#you can also install multiple packages \n",
    "\n",
    "# install from pipy: https://pypi.org/\n",
    "!pip install numpy \n",
    "!pip install numpy pandas matplotlib #installing multiple packages\n",
    "  \n"
   ]
  },
  {
   "cell_type": "code",
   "execution_count": null,
   "metadata": {},
   "outputs": [],
   "source": []
  }
 ],
 "metadata": {
  "kernelspec": {
   "display_name": "Python 3",
   "language": "python",
   "name": "python3"
  },
  "language_info": {
   "codemirror_mode": {
    "name": "ipython",
    "version": 3
   },
   "file_extension": ".py",
   "mimetype": "text/x-python",
   "name": "python",
   "nbconvert_exporter": "python",
   "pygments_lexer": "ipython3",
   "version": "3.9.2"
  }
 },
 "nbformat": 4,
 "nbformat_minor": 4
}
