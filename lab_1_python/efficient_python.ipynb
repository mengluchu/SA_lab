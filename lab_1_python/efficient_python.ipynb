{
 "cells": [
  {
   "cell_type": "markdown",
   "id": "4d5f5359",
   "metadata": {},
   "source": [
    "Accelerate your Python code and way to more efficient programming \n",
    "\n",
    "Meng Lu\n",
    "\n",
    "Of course, it will take a long time to gain skills and grow intuitiion, but this tutorial can already help you to develop some good habits and program more efficiently. "
   ]
  },
  {
   "cell_type": "markdown",
   "id": "d69106e6",
   "metadata": {},
   "source": [
    "Main message: \n",
    "\n",
    "1. Use %timeit (% for a line and %% for the whole chunk, e.g. %%timeit) and %prun to test the running time. Profiling Memory Use: %memit and %mprun (need to install the IPython exention memory_profiler).\n",
    "\n"
   ]
  },
  {
   "cell_type": "code",
   "execution_count": 6,
   "id": "88d8528e",
   "metadata": {},
   "outputs": [
    {
     "name": "stdout",
     "output_type": "stream",
     "text": [
      "Requirement already satisfied: memory_profiler in /opt/anaconda3/lib/python3.8/site-packages (0.59.0)\r\n",
      "Requirement already satisfied: psutil in /opt/anaconda3/lib/python3.8/site-packages (from memory_profiler) (5.8.0)\r\n"
     ]
    }
   ],
   "source": [
    "! pip install memory_profiler\n",
    "%load_ext memory_profiler"
   ]
  },
  {
   "cell_type": "code",
   "execution_count": 7,
   "id": "1d48f747",
   "metadata": {},
   "outputs": [
    {
     "name": "stdout",
     "output_type": "stream",
     "text": [
      "322 ns ± 4.47 ns per loop (mean ± std. dev. of 7 runs, 1000000 loops each)\n"
     ]
    }
   ],
   "source": [
    "%%timeit \n",
    "\n",
    "x = map(lambda x: x**2, range(1,10))"
   ]
  },
  {
   "cell_type": "code",
   "execution_count": 8,
   "id": "c5e77713",
   "metadata": {},
   "outputs": [
    {
     "name": "stdout",
     "output_type": "stream",
     "text": [
      "peak memory: 80.86 MiB, increment: 0.32 MiB\n"
     ]
    }
   ],
   "source": [
    "#Peak memory refers to the peak memory usage of your system (including memory usage of other processes) during the program runtime.\n",
    "\n",
    "#Increment is the increment in memory usage relative to the memory usage just before the program is run (i.e. increment = peak memory - starting memory).\n",
    "%memit map(lambda x: x**2, range(1,10))"
   ]
  },
  {
   "cell_type": "markdown",
   "id": "c0ecc8ab",
   "metadata": {},
   "source": [
    "2. Python already optimise a lot of things in pandas and numpy. Use the built-in functions instead of writing a function on your own. \n",
    "\n",
    "3. Use list comprehension, vectorisation, and at least apply/map/filter to replace the for loop. \n",
    "\n",
    "4. Use numpy.where and numpy.select to replace ifelse. \n",
    "\n",
    "\n",
    "\n",
    "5. -Useful: Pandas is built on numpy, so all the numpy optimisations are applicable to Pandas.  "
   ]
  },
  {
   "cell_type": "code",
   "execution_count": 9,
   "id": "b4b5bc35",
   "metadata": {},
   "outputs": [],
   "source": [
    "import pandas as pd\n",
    "import numpy as np\n",
    "\n",
    "#download data\n",
    "spreadurl = 'https://raw.githubusercontent.com/mengluchu/uncertainty/master/data_vis_exp/DENL17_uc.csv'\n",
    "# load the data\n",
    "ap = pd.read_csv(spreadurl)\n",
    "\n",
    "ap_road = ap.filter (regex=\"road_class_2_50|wkd_day_value\")"
   ]
  },
  {
   "cell_type": "markdown",
   "id": "5e52d10d",
   "metadata": {},
   "source": [
    "#### Python already optimise a lot of things in pandas and numpy. Use the built-in functions instead of writing a function on your own.\n",
    "\n",
    "\n",
    "\"The practice of replacing explicit loops with array expressions is commonly referred to as vectorisation.\" \n",
    "\n",
    "\n",
    "For example, we want to add an \"1\" to each elements of a column, we can do three ways: \n",
    "1. for-loop or while loop (will skip the code here)\n",
    "2. use apply, \n",
    "3. use the build-in method so-called vectorisation. "
   ]
  },
  {
   "cell_type": "code",
   "execution_count": 10,
   "id": "47487cd0",
   "metadata": {},
   "outputs": [
    {
     "name": "stdout",
     "output_type": "stream",
     "text": [
      "64.4 ms ± 2.13 ms per loop (mean ± std. dev. of 7 runs, 10 loops each)\n"
     ]
    }
   ],
   "source": [
    "%timeit ap_road.apply(lambda x: x+1, axis=1)"
   ]
  },
  {
   "cell_type": "code",
   "execution_count": 11,
   "id": "cefe55ca",
   "metadata": {},
   "outputs": [
    {
     "name": "stdout",
     "output_type": "stream",
     "text": [
      "75.4 µs ± 1.37 µs per loop (mean ± std. dev. of 7 runs, 10000 loops each)\n"
     ]
    }
   ],
   "source": [
    "%timeit ap_road+1"
   ]
  },
  {
   "cell_type": "code",
   "execution_count": 15,
   "id": "7d1f04f4",
   "metadata": {},
   "outputs": [
    {
     "name": "stdout",
     "output_type": "stream",
     "text": [
      " "
     ]
    }
   ],
   "source": [
    "%%prun -s cumulative -l 5 \n",
    "ap_road.apply(lambda x: x+1, axis=1) # -s cumulative means to sort by cumulative time, -l 10 means to sort the first ten "
   ]
  },
  {
   "cell_type": "markdown",
   "id": "856f3dfe",
   "metadata": {},
   "source": [
    "#### Whenever possible, avoid \"for loops\"\n",
    "\n",
    "Use list comprehension, vectorisation, and at least apply/map/filter to replace the for loop. "
   ]
  },
  {
   "cell_type": "code",
   "execution_count": 62,
   "id": "d50ecb30",
   "metadata": {},
   "outputs": [],
   "source": [
    "# Your home work\n",
    "# given a list, list(range(100))\n",
    "# replace to last ten values by adding a 20 to each of them. e.g. 91 becomes 111."
   ]
  },
  {
   "cell_type": "code",
   "execution_count": 16,
   "id": "3769a153",
   "metadata": {},
   "outputs": [
    {
     "name": "stdout",
     "output_type": "stream",
     "text": [
      "1.85 µs ± 44.7 ns per loop (mean ± std. dev. of 7 runs, 1000000 loops each)\n"
     ]
    }
   ],
   "source": [
    "%%timeit\n",
    "#for loop\n",
    "nums = list(range(100))\n",
    "\n",
    "counter=10\n",
    " \n",
    "for i in nums[-10:]:\n",
    "    nums[ -counter] = i + 20\n",
    "    counter -= 1\n"
   ]
  },
  {
   "cell_type": "code",
   "execution_count": 17,
   "id": "80ad91d5",
   "metadata": {},
   "outputs": [
    {
     "name": "stdout",
     "output_type": "stream",
     "text": [
      "1.74 µs ± 46.1 ns per loop (mean ± std. dev. of 7 runs, 1000000 loops each)\n"
     ]
    }
   ],
   "source": [
    "%%timeit\n",
    "\n",
    "nums = list(range(100))\n",
    "\n",
    "nums_lasttenadd20 = nums[90:100]\n",
    "add = []\n",
    "for x in nums_lasttenadd20:\n",
    "    add.append(x + 20)\n"
   ]
  },
  {
   "cell_type": "code",
   "execution_count": 19,
   "id": "fd414597",
   "metadata": {},
   "outputs": [
    {
     "name": "stdout",
     "output_type": "stream",
     "text": [
      "1.6 µs ± 7.76 ns per loop (mean ± std. dev. of 7 runs, 1000000 loops each)\n"
     ]
    }
   ],
   "source": [
    "%%timeit\n",
    "#list comprehension\n",
    "\n",
    "nums = list(range(100))\n",
    "nums[-10:]=[x+10 for x in nums[-10:]]"
   ]
  },
  {
   "cell_type": "code",
   "execution_count": 21,
   "id": "55571d9b",
   "metadata": {},
   "outputs": [],
   "source": [
    "a = np.random.random([100])\n",
    "b = np.random.random([100])"
   ]
  },
  {
   "cell_type": "markdown",
   "id": "d61a9297",
   "metadata": {},
   "source": [
    "Another example, for loop vs. vectorisation"
   ]
  },
  {
   "cell_type": "code",
   "execution_count": 25,
   "id": "e9c83789",
   "metadata": {},
   "outputs": [
    {
     "name": "stdout",
     "output_type": "stream",
     "text": [
      "2.65 ms ± 42.9 µs per loop (mean ± std. dev. of 7 runs, 100 loops each)\n"
     ]
    }
   ],
   "source": [
    "%%timeit\n",
    "outerproduct = np.zeros([100])\n",
    "for i in range(len(a)): \n",
    "    for j in range(len(a)):\n",
    "        outerproduct[j]= a[i]*b[i]\n",
    "\n"
   ]
  },
  {
   "cell_type": "code",
   "execution_count": 26,
   "id": "87fa16df",
   "metadata": {},
   "outputs": [
    {
     "name": "stdout",
     "output_type": "stream",
     "text": [
      "405 ns ± 5.78 ns per loop (mean ± std. dev. of 7 runs, 1000000 loops each)\n"
     ]
    }
   ],
   "source": [
    "%timeit np.multiply(a, b)"
   ]
  },
  {
   "cell_type": "markdown",
   "id": "0dc6bc89",
   "metadata": {},
   "source": [
    "#### Use numpy.where and numpy.select to replace ifelse.\\\n"
   ]
  },
  {
   "cell_type": "code",
   "execution_count": 27,
   "id": "a7d2f4d0",
   "metadata": {},
   "outputs": [
    {
     "name": "stdout",
     "output_type": "stream",
     "text": [
      "3.34 ms ± 166 µs per loop (mean ± std. dev. of 7 runs, 100 loops each)\n"
     ]
    }
   ],
   "source": [
    "def b (df):\n",
    "    if df[\"road_class_2_50\"] > 1:\n",
    "        return(1)\n",
    "    else:\n",
    "        return(0)\n",
    "    \n",
    "%timeit ap_road.apply(b, axis = 1)\n",
    "\n",
    "# this is better than iterrow "
   ]
  },
  {
   "cell_type": "code",
   "execution_count": 28,
   "id": "232b305f",
   "metadata": {},
   "outputs": [
    {
     "name": "stdout",
     "output_type": "stream",
     "text": [
      "123 µs ± 1.01 µs per loop (mean ± std. dev. of 7 runs, 10000 loops each)\n"
     ]
    }
   ],
   "source": [
    "%timeit a = np.where (ap_road[\"road_class_2_50\"]>1, 1, 0) "
   ]
  },
  {
   "cell_type": "code",
   "execution_count": 29,
   "id": "6ef06a23",
   "metadata": {},
   "outputs": [
    {
     "name": "stdout",
     "output_type": "stream",
     "text": [
      " "
     ]
    }
   ],
   "source": [
    "%%prun -s cumulative -l 6 \n",
    "a = np.where (ap_road[\"road_class_2_50\"]>1, 1, 0)"
   ]
  },
  {
   "cell_type": "markdown",
   "id": "8c11ad19",
   "metadata": {},
   "source": [
    "np.select() for multiple if.. then "
   ]
  },
  {
   "cell_type": "code",
   "execution_count": 4,
   "id": "443b5436",
   "metadata": {},
   "outputs": [
    {
     "name": "stdout",
     "output_type": "stream",
     "text": [
      "6.2 µs ± 171 ns per loop (mean ± std. dev. of 7 runs, 100000 loops each)\n"
     ]
    }
   ],
   "source": [
    "%timeit np.where (ap_road[\"road_class_2_50\"].values>1, 1, 0) \n",
    "\n",
    "# ap_road[\"road_class_2_50\"].values get an array from a dataframe and can further speed it up.\n"
   ]
  },
  {
   "cell_type": "markdown",
   "id": "e21b79f3",
   "metadata": {},
   "source": [
    "Exercise: \n",
    "\n",
    "\n",
    "1. Given two numpy arrays, perform dot multiplication: 1) with for loop, 2) with vectorisation. \n",
    "\n",
    "2. Use the dataframe ap, add a column \"wkd_day_class\" that is 1 for all the wkd_day_value > 20, and 0 otherwise. Don't use ifelse.  \n",
    "        \n",
    "        \n",
    "        "
   ]
  }
 ],
 "metadata": {
  "kernelspec": {
   "display_name": "Python 3",
   "language": "python",
   "name": "python3"
  },
  "language_info": {
   "codemirror_mode": {
    "name": "ipython",
    "version": 3
   },
   "file_extension": ".py",
   "mimetype": "text/x-python",
   "name": "python",
   "nbconvert_exporter": "python",
   "pygments_lexer": "ipython3",
   "version": "3.8.8"
  },
  "toc": {
   "base_numbering": 1,
   "nav_menu": {},
   "number_sections": true,
   "sideBar": true,
   "skip_h1_title": false,
   "title_cell": "Table of Contents",
   "title_sidebar": "Contents",
   "toc_cell": false,
   "toc_position": {},
   "toc_section_display": true,
   "toc_window_display": false
  }
 },
 "nbformat": 4,
 "nbformat_minor": 5
}
