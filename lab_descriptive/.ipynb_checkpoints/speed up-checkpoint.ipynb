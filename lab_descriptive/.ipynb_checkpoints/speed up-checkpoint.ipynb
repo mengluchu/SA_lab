{
 "cells": [
  {
   "cell_type": "markdown",
   "id": "f8d8d32f",
   "metadata": {},
   "source": [
    "Sometimes there are multiple ways to achieve a goal, but some are more efficient. "
   ]
  },
  {
   "cell_type": "code",
   "execution_count": 48,
   "id": "c17ede5e",
   "metadata": {},
   "outputs": [],
   "source": [
    "import pandas as pd\n",
    "import numpy as np\n",
    "\n",
    "#download data\n",
    "spreadurl = 'https://raw.githubusercontent.com/mengluchu/uncertainty/master/data_vis_exp/DENL17_uc.csv'\n",
    "# load the data\n",
    "ap = pd.read_csv(spreadurl)\n",
    "\n",
    "ap_road = ap.filter (regex=\"road_class_2_50|wkd_day_value\")"
   ]
  },
  {
   "cell_type": "code",
   "execution_count": 49,
   "id": "8202be53",
   "metadata": {},
   "outputs": [
    {
     "name": "stdout",
     "output_type": "stream",
     "text": [
      "3.35 ms ± 60.4 µs per loop (mean ± std. dev. of 7 runs, 100 loops each)\n"
     ]
    }
   ],
   "source": [
    "def b (df):\n",
    "    if df[\"road_class_2_50\"] > 1:\n",
    "        return(1)\n",
    "    else:\n",
    "        return(0)\n",
    "    \n",
    "%timeit ap_road.apply(b, axis = 1)\n",
    "# this is better than iterrow "
   ]
  },
  {
   "cell_type": "code",
   "execution_count": 50,
   "id": "81eba061",
   "metadata": {},
   "outputs": [
    {
     "name": "stdout",
     "output_type": "stream",
     "text": [
      "132 µs ± 4.12 µs per loop (mean ± std. dev. of 7 runs, 10000 loops each)\n"
     ]
    }
   ],
   "source": [
    "%timeit a = np.where (ap_road[\"road_class_2_50\"]>1, 1, 0) \n",
    "\n"
   ]
  },
  {
   "cell_type": "code",
   "execution_count": 51,
   "id": "fda6d38d",
   "metadata": {},
   "outputs": [
    {
     "name": "stdout",
     "output_type": "stream",
     "text": [
      "6.33 µs ± 216 ns per loop (mean ± std. dev. of 7 runs, 100000 loops each)\n"
     ]
    }
   ],
   "source": [
    "%timeit np.where (ap_road[\"road_class_2_50\"].values>1, 1, 0) \n",
    "\n",
    "# ap_road[\"road_class_2_50\"].values get an array from a dataframe and can further speed it up.\n"
   ]
  },
  {
   "cell_type": "markdown",
   "id": "a7f1a781",
   "metadata": {},
   "source": [
    "np.select() for multiple if.. then "
   ]
  },
  {
   "cell_type": "code",
   "execution_count": 54,
   "id": "672f446f",
   "metadata": {},
   "outputs": [
    {
     "name": "stdout",
     "output_type": "stream",
     "text": [
      "72 ms ± 3.49 ms per loop (mean ± std. dev. of 7 runs, 10 loops each)\n"
     ]
    }
   ],
   "source": [
    "%timeit ap_road.apply(lambda x: x+1, axis=1)"
   ]
  },
  {
   "cell_type": "code",
   "execution_count": 55,
   "id": "01aa6068",
   "metadata": {},
   "outputs": [
    {
     "name": "stdout",
     "output_type": "stream",
     "text": [
      "78.3 µs ± 3.11 µs per loop (mean ± std. dev. of 7 runs, 10000 loops each)\n"
     ]
    }
   ],
   "source": [
    "%timeit ap_road+1"
   ]
  },
  {
   "cell_type": "code",
   "execution_count": 70,
   "id": "dddfaf07",
   "metadata": {},
   "outputs": [
    {
     "name": "stdout",
     "output_type": "stream",
     "text": [
      "805 ns ± 13.9 ns per loop (mean ± std. dev. of 7 runs, 1000000 loops each)\n"
     ]
    }
   ],
   "source": [
    "#list comprehension \n",
    "%%timeit\n",
    "nums = list(range(100))\n",
    "\n",
    "\n",
    "# Replace to last ten values by adding a 20 to each of them. e.g. 91 becomes 111.\n",
    "nums[-10:]=[x+10 for x in nums[-10:]]\n"
   ]
  },
  {
   "cell_type": "code",
   "execution_count": 81,
   "id": "646d64ad",
   "metadata": {},
   "outputs": [
    {
     "name": "stdout",
     "output_type": "stream",
     "text": [
      "1.89 µs ± 22.5 ns per loop (mean ± std. dev. of 7 runs, 1000000 loops each)\n"
     ]
    }
   ],
   "source": [
    "#for loop\n",
    "%%timeit\n",
    "\n",
    "nums = list(range(100))\n",
    "\n",
    "counter=10\n",
    " \n",
    "for i in nums[-10:]:\n",
    "    nums[ -counter] = i + 20\n",
    "    counter -= 1\n"
   ]
  },
  {
   "cell_type": "code",
   "execution_count": 85,
   "id": "491c6b76",
   "metadata": {},
   "outputs": [
    {
     "name": "stdout",
     "output_type": "stream",
     "text": [
      "1.81 µs ± 79.3 ns per loop (mean ± std. dev. of 7 runs, 100000 loops each)\n"
     ]
    }
   ],
   "source": [
    "%%timeit\n",
    "\n",
    "nums = list(range(100))\n",
    "\n",
    "\n",
    "nums_lasttenadd20=nums[90:100]\n",
    "add = []\n",
    "for x in nums_lasttenadd20:\n",
    "    add.append(x + 20)\n"
   ]
  }
 ],
 "metadata": {
  "kernelspec": {
   "display_name": "Python 3",
   "language": "python",
   "name": "python3"
  },
  "language_info": {
   "codemirror_mode": {
    "name": "ipython",
    "version": 3
   },
   "file_extension": ".py",
   "mimetype": "text/x-python",
   "name": "python",
   "nbconvert_exporter": "python",
   "pygments_lexer": "ipython3",
   "version": "3.8.8"
  },
  "toc": {
   "base_numbering": 1,
   "nav_menu": {},
   "number_sections": true,
   "sideBar": true,
   "skip_h1_title": false,
   "title_cell": "Table of Contents",
   "title_sidebar": "Contents",
   "toc_cell": false,
   "toc_position": {},
   "toc_section_display": true,
   "toc_window_display": false
  }
 },
 "nbformat": 4,
 "nbformat_minor": 5
}
