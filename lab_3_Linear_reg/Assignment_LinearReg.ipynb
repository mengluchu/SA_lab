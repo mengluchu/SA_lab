{
 "cells": [
  {
   "cell_type": "markdown",
   "metadata": {},
   "source": [
    "## Assignment Linear Regression\n",
    "\n",
    "####  E1: Gradient Descent\n",
    "1. Plot gradient descent plots for a different cost function, calculate the derivative of the cost function. You can also program or use packages to get the derivative of the cost function.\n",
    "\n",
    "2. Explore with different starts and different learning rates. What do you find?\n",
    "\n",
    "####  E2: Linear regression\n",
    "1. From the $NO_2$ dataset (DENL17_uc.csv), select 3 (numerical) variables which you think are the most useful in predicting $NO_2$ spatially. \n",
    "\n",
    "2. Fit a linear regression model, conduct the regression diagnostic and discuss your model fitting. \n",
    "\n",
    "3. Describes what are the influences of each predictor variable to the response. \n",
    "\n",
    "#### E3: Lasso path and model fitting\n",
    "\n",
    "1. From the $NO_2$ dataset (DENL17_uc.csv), select 10 (numerical) variables which you think may be useful in predicting $NO_2$ spatially. \n",
    "\n",
    "2. plot the Lasso path: Fractions of full solution vs. standardised coefficients. \n",
    "\n",
    "3. Fit a Lasso regression, plot the penalty term alpha vs. mse (or rmse). \n",
    "\n",
    "4. Describe your findings."
   ]
  }
 ],
 "metadata": {
  "kernelspec": {
   "display_name": "Python 3",
   "language": "python",
   "name": "python3"
  },
  "language_info": {
   "codemirror_mode": {
    "name": "ipython",
    "version": 3
   },
   "file_extension": ".py",
   "mimetype": "text/x-python",
   "name": "python",
   "nbconvert_exporter": "python",
   "pygments_lexer": "ipython3",
   "version": "3.7.4"
  }
 },
 "nbformat": 4,
 "nbformat_minor": 2
}
