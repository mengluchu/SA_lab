{
 "cells": [
  {
   "cell_type": "markdown",
   "metadata": {},
   "source": [
    "## E1: \n",
    "Using data from 'https://raw.githubusercontent.com/mengluchu/uncertainty/master/data_vis_exp/DENL17_uc.csv'\n",
    "\n",
    "1. plot the spatial points for the variable \"road_\". Add your favorate basemap.\n",
    "2. Calculate Global Moran's I using KNN, does the result differ with k equal to 4, 5, and 8?\n",
    "3. Calculate local Moran's I using KNN, does the result differ with k equal to 4, 5, and 8? \n",
    " \n",
    "## E2:\n",
    "(optional) further read: [Global Spatial Autocorrelation](https://geodacenter.github.io/workbook/5a_global_auto/lab5a.html)"
   ]
  },
  {
   "cell_type": "code",
   "execution_count": null,
   "metadata": {},
   "outputs": [],
   "source": []
  }
 ],
 "metadata": {
  "kernelspec": {
   "display_name": "Python 3",
   "language": "python",
   "name": "python3"
  },
  "language_info": {
   "codemirror_mode": {
    "name": "ipython",
    "version": 3
   },
   "file_extension": ".py",
   "mimetype": "text/x-python",
   "name": "python",
   "nbconvert_exporter": "python",
   "pygments_lexer": "ipython3",
   "version": "3.6.13"
  }
 },
 "nbformat": 4,
 "nbformat_minor": 4
}
