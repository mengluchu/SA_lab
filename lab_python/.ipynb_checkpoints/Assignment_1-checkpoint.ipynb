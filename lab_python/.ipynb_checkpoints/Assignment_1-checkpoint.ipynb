{
 "cells": [
  {
   "cell_type": "markdown",
   "metadata": {},
   "source": [
    "## **Exercise 1**: \n",
    "\n",
    "Given two variables, x = 5, y = 10.5, calculate:\n",
    "    \n",
    "1. x multiply by y\n",
    "2. Dividing x by 3\n",
    "3. y to the power of x \n",
    "\n",
    "print the results"
   ]
  },
  {
   "cell_type": "markdown",
   "metadata": {
    "id": "sZaavnmW13EP"
   },
   "source": [
    "## **Exercise 2**: \n",
    "Use the assignment operator to calculate \"5 to the power of 2\". "
   ]
  },
  {
   "cell_type": "markdown",
   "metadata": {
    "id": "_rX_1OSwzeRM"
   },
   "source": [
    "## **Exercise 3**:  \n",
    "\n",
    "Explain: What does it mean by taking the boolean logics between two lists?"
   ]
  },
  {
   "cell_type": "code",
   "execution_count": 1,
   "metadata": {
    "colab": {
     "base_uri": "https://localhost:8080/"
    },
    "id": "r7mYm-zAzq-1",
    "outputId": "1b623a25-e1e2-4745-be09-1d990da73f1e"
   },
   "outputs": [
    {
     "data": {
      "text/plain": [
       "[3, 4, 5, 6, 7]"
      ]
     },
     "execution_count": 1,
     "metadata": {},
     "output_type": "execute_result"
    }
   ],
   "source": [
    "#Hints\n",
    "a = [1,2,3,4,5]\n",
    "b = [3,4,5,6,7]\n",
    "a and b\n",
    "a or b\n",
    "\n"
   ]
  },
  {
   "cell_type": "markdown",
   "metadata": {},
   "source": [
    "## **Exercise 4** \n",
    "Given the list below (num)\n",
    "\n",
    "1. Take the values from indices 10 to 20 out of it. \n",
    "2. Replace to last ten values by adding a 20 to each of them. e.g. 91 becomes 111. \n",
    "3. Get a new list consists of only even numbers and add a 10 to each of them. The output should be  [10, 12, 14]. "
   ]
  },
  {
   "cell_type": "code",
   "execution_count": 3,
   "metadata": {},
   "outputs": [],
   "source": [
    "nums = list(range(100))    # range is a built-in function that creates a list of integers\n",
    "# hint: using slice"
   ]
  },
  {
   "cell_type": "markdown",
   "metadata": {},
   "source": [
    "## **Exercise 5**:   \n",
    "\n",
    "Given the dictionary below (d)\n",
    "\n",
    "1. Get an entry from a dictionary; prints \"furry\".\n",
    "2. Set a new entry in a dictionary: \"elefant\": \"heavy\".\n",
    "3. Print \"heaving\".\n",
    "4. Get an element with a default: \"whatever\"; prints \"N/A\". \n",
    "5. Remove the element \"cat\" from the dictionary."
   ]
  },
  {
   "cell_type": "code",
   "execution_count": 8,
   "metadata": {},
   "outputs": [
    {
     "data": {
      "text/plain": [
       "dict_items([('cat', 'cute'), ('dog', 'furry')])"
      ]
     },
     "execution_count": 8,
     "metadata": {},
     "output_type": "execute_result"
    }
   ],
   "source": [
    "d = {'cat': 'cute', 'dog': 'furry'}  # Create a new dictionary with some data\n",
    " "
   ]
  },
  {
   "cell_type": "markdown",
   "metadata": {},
   "source": [
    "## **Exercise 6**: \n",
    "\n",
    "1. Create a $3 \\times 3$ numpy array \"a\" filled with random values\n",
    "2. Create a $3 \\times 3$ numpy identity matrix \"b\"\n",
    "3. Multiply a and b elementwise, i.e. use element multiplication of a and b. \n",
    "4. Matrix multiplication of a and b, (hint, using a.dot(b))\n",
    "\n",
    "\n"
   ]
  },
  {
   "cell_type": "code",
   "execution_count": 3,
   "metadata": {},
   "outputs": [],
   "source": [
    "#np.random.random()\n",
    "#np.eye()\n",
    "#a*b \n",
    "#a.dot(b) \n",
    "#a @ b"
   ]
  },
  {
   "cell_type": "markdown",
   "metadata": {},
   "source": [
    "Given the array below,\n",
    "\n",
    "1. Calculate the \\sum along the 0th dimension, i.e. axis = 0\n",
    "2. Calcuate the \\sum along the 1st dimension, i.e. axis = 1 \n",
    "3. Get the \\sum over the entire array\n",
    "4. Transpose the array"
   ]
  },
  {
   "cell_type": "code",
   "execution_count": 31,
   "metadata": {},
   "outputs": [
    {
     "data": {
      "text/plain": [
       "array([ 6,  8, 20])"
      ]
     },
     "execution_count": 31,
     "metadata": {},
     "output_type": "execute_result"
    }
   ],
   "source": [
    "x = np.array([[1,2,8],[3,4,9], [2,2,3]])\n",
    " "
   ]
  },
  {
   "cell_type": "markdown",
   "metadata": {},
   "source": [
    "## **Exercise 7**:   \n",
    "\n",
    "1. Create two numpy arrays, \"a\" and \"b\" with shape (3,), the array a contains \\[True, False, False\\], and b \\[True, True, False\\]\n",
    "\n",
    "2. Change the first element of array a to \"False\".\n",
    "\n",
    "\n",
    "3. Explain: What does it mean by taking the boolean logics \"and\" and \"or\" between two numpy arrays?\n"
   ]
  },
  {
   "cell_type": "code",
   "execution_count": 5,
   "metadata": {},
   "outputs": [],
   "source": [
    "#a & b\n",
    "#a | b "
   ]
  },
  {
   "cell_type": "markdown",
   "metadata": {},
   "source": [
    "## **Exercise 7** \n",
    "What is broadcasting? Please illustrate with an example. "
   ]
  },
  {
   "cell_type": "markdown",
   "metadata": {
    "id": "VG4kQsBn7NPo"
   },
   "source": [
    "## **Exercise 8** \n",
    "Set up a subplot grid that has height 3 and width 2, plot sin(x*i), i = 1,..., 6 in each subplot, using for loop. \n",
    " \n"
   ]
  }
 ],
 "metadata": {
  "colab": {
   "collapsed_sections": [],
   "name": "exercise_1.ipynb",
   "provenance": []
  },
  "kernelspec": {
   "display_name": "Python 3",
   "language": "python",
   "name": "python3"
  },
  "language_info": {
   "codemirror_mode": {
    "name": "ipython",
    "version": 3
   },
   "file_extension": ".py",
   "mimetype": "text/x-python",
   "name": "python",
   "nbconvert_exporter": "python",
   "pygments_lexer": "ipython3",
   "version": "3.8.8"
  },
  "toc": {
   "base_numbering": 1,
   "nav_menu": {},
   "number_sections": true,
   "sideBar": true,
   "skip_h1_title": false,
   "title_cell": "Table of Contents",
   "title_sidebar": "Contents",
   "toc_cell": false,
   "toc_position": {},
   "toc_section_display": true,
   "toc_window_display": false
  }
 },
 "nbformat": 4,
 "nbformat_minor": 1
}
