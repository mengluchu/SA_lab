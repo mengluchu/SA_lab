{
 "cells": [
  {
   "cell_type": "markdown",
   "id": "02fe7f9a",
   "metadata": {},
   "source": [
    "# Cross-Validation (CV) -- spliting training and test sets\n",
    " \n",
    "**Author Meng Lu**\n",
    "\n",
    "This tutorial is adopted from [scikit-learn CV](https://scikit-learn.org/stable/modules/cross_validation.html)"
   ]
  },
  {
   "cell_type": "markdown",
   "id": "68d87ba4",
   "metadata": {},
   "source": [
    "We have already seen the model over-fitting problem in \"linear models for regression\". Remember we talked about regulation. Modern machine learning models are very flexible and can modele complex relationships, and are prone to over-fitting (i.e. the model is too close to the data (i.e. overemphasize patterns) to be gernarlised). But how to we know the model is over-fitted or not before the next set of samples are predicted?\n",
    "\n",
    "We need a methodological approach to evaluate models and build trustworthy models, and the most commonly used is Cross-Validation (CV)."
   ]
  },
  {
   "cell_type": "code",
   "execution_count": 1,
   "id": "86fba290",
   "metadata": {},
   "outputs": [],
   "source": [
    "import numpy as np\n",
    "from sklearn.model_selection import KFold, RepeatedKFold, LeaveOneOut, LeavePOut,ShuffleSplit\n"
   ]
  },
  {
   "cell_type": "markdown",
   "id": "6d50c4f9",
   "metadata": {},
   "source": [
    "Leave-one-out CV:\n",
    "Each learning set is created by taking all the samples except one, the test set being the sample left out. "
   ]
  },
  {
   "cell_type": "code",
   "execution_count": 2,
   "id": "e88cf1bb",
   "metadata": {},
   "outputs": [
    {
     "name": "stdout",
     "output_type": "stream",
     "text": [
      "[1 2 3] [0]\n",
      "['B', 'C', 'D'] ['A']\n",
      "[0 2 3] [1]\n",
      "['A', 'C', 'D'] ['B']\n",
      "[0 1 3] [2]\n",
      "['A', 'B', 'D'] ['C']\n",
      "[0 1 2] [3]\n",
      "['A', 'B', 'C'] ['D']\n"
     ]
    }
   ],
   "source": [
    "X = [\"A\", \"B\", \"C\", \"D\"]\n",
    "loo = LeaveOneOut()\n",
    "for train, test in loo.split(X):\n",
    "    print(\"%s %s\" % (train, test))\n",
    "    print([X[i] for i in train],[X[i] for i in test])"
   ]
  },
  {
   "cell_type": "markdown",
   "id": "aace7a7c",
   "metadata": {},
   "source": [
    "K-fold CV"
   ]
  },
  {
   "cell_type": "code",
   "execution_count": 27,
   "id": "1f7c3713",
   "metadata": {},
   "outputs": [
    {
     "name": "stdout",
     "output_type": "stream",
     "text": [
      "['C', 'D'] ['A', 'B']\n",
      "['A', 'B'] ['C', 'D']\n"
     ]
    }
   ],
   "source": [
    "X = [\"A\", \"B\", \"C\", \"D\"]\n",
    "kf = KFold(n_splits=2) \n",
    "for train, test in kf.split(X):\n",
    "    print([X[i] for i in train],[X[i] for i in test])"
   ]
  },
  {
   "cell_type": "markdown",
   "id": "5432bd3b",
   "metadata": {},
   "source": [
    "Exercise: Using the example above and change it into a 4-fold CV.\n",
    "    "
   ]
  },
  {
   "cell_type": "code",
   "execution_count": null,
   "id": "722a6883",
   "metadata": {},
   "outputs": [],
   "source": [
    "# if we set the n_splits is len(X), then we are actually doing LOO."
   ]
  },
  {
   "cell_type": "markdown",
   "id": "db2235d3",
   "metadata": {},
   "source": [
    "Leave P Out (LPO)\n",
    "LeavePOut is very similar to LeaveOneOut as it creates all the possible training/test sets by removing  samples from the complete set.  \n"
   ]
  },
  {
   "cell_type": "code",
   "execution_count": 3,
   "id": "0186738c",
   "metadata": {},
   "outputs": [
    {
     "name": "stdout",
     "output_type": "stream",
     "text": [
      "['C', 'D'] ['A', 'B']\n",
      "['B', 'D'] ['A', 'C']\n",
      "['B', 'C'] ['A', 'D']\n",
      "['A', 'D'] ['B', 'C']\n",
      "['A', 'C'] ['B', 'D']\n",
      "['A', 'B'] ['C', 'D']\n"
     ]
    }
   ],
   "source": [
    "lpo = LeavePOut(p=2)\n",
    "for train, test in lpo.split(X):\n",
    "     print([X[i] for i in train],[X[i] for i in test])"
   ]
  },
  {
   "cell_type": "markdown",
   "id": "b07a2fca",
   "metadata": {},
   "source": [
    "Exercise: what is the difference between leavePOut and K-fold CV?"
   ]
  },
  {
   "cell_type": "markdown",
   "id": "d52ff697",
   "metadata": {},
   "source": [
    "The ShuffleSplit iterator will generate a user defined number of independent train / test dataset splits. Samples are first shuffled and then split into a pair of train and test sets."
   ]
  },
  {
   "cell_type": "code",
   "execution_count": 40,
   "id": "e94b8552",
   "metadata": {},
   "outputs": [
    {
     "name": "stdout",
     "output_type": "stream",
     "text": [
      "[17, 6, 13, 4, 2, 5, 14, 9, 7, 16, 11, 3, 0, 15, 12] [18, 1, 19, 8, 10]\n",
      "[12, 19, 16, 10, 0, 3, 4, 15, 8, 13, 9, 5, 14, 7, 6] [11, 1, 18, 17, 2]\n",
      "[2, 8, 6, 3, 17, 4, 10, 16, 18, 9, 1, 0, 7, 14, 19] [15, 13, 12, 5, 11]\n",
      "[17, 7, 12, 14, 16, 11, 10, 9, 15, 1, 19, 8, 6, 5, 4] [18, 0, 13, 2, 3]\n",
      "[18, 8, 17, 15, 16, 6, 13, 11, 4, 10, 9, 12, 3, 14, 0] [7, 1, 2, 19, 5]\n"
     ]
    }
   ],
   "source": [
    "X = np.arange(20)\n",
    "ss = ShuffleSplit(n_splits=5, test_size=0.25, random_state=0)\n",
    "for train, test in ss.split(X):\n",
    "     print([X[i] for i in train],[X[i] for i in test])"
   ]
  },
  {
   "cell_type": "markdown",
   "id": "e16726a0",
   "metadata": {},
   "source": [
    "Exercise: Using the example above and change it into a 20 splits and test size 0.3\n",
    "    "
   ]
  },
  {
   "cell_type": "code",
   "execution_count": null,
   "id": "b2aaa0cb",
   "metadata": {},
   "outputs": [],
   "source": []
  }
 ],
 "metadata": {
  "kernelspec": {
   "display_name": "Python 3",
   "language": "python",
   "name": "python3"
  },
  "language_info": {
   "codemirror_mode": {
    "name": "ipython",
    "version": 3
   },
   "file_extension": ".py",
   "mimetype": "text/x-python",
   "name": "python",
   "nbconvert_exporter": "python",
   "pygments_lexer": "ipython3",
   "version": "3.8.8"
  },
  "toc": {
   "base_numbering": 1,
   "nav_menu": {},
   "number_sections": true,
   "sideBar": true,
   "skip_h1_title": false,
   "title_cell": "Table of Contents",
   "title_sidebar": "Contents",
   "toc_cell": false,
   "toc_position": {},
   "toc_section_display": true,
   "toc_window_display": false
  }
 },
 "nbformat": 4,
 "nbformat_minor": 5
}
