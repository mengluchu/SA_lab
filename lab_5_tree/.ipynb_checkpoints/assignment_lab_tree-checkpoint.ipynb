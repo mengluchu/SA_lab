{
 "cells": [
  {
   "cell_type": "markdown",
   "metadata": {},
   "source": [
    "## Assignment:\n",
    "\n",
    "1. From the  𝑁𝑂2 dataset (DENL17_uc.csv), select 3 (numerical) variables which you used for your linear regression assignment.  \n",
    "\n",
    "2. Use a regression tree estimator, tune the \"ccp_alpha\" hyperparameter. Plot the relationship between different values of \"ccp_alpha\" vs. prediction accuracy. \n",
    "\n",
    "3. Fit the tree to the training data.\n",
    "\n",
    "4. Analyse the model performance. \n",
    "\n",
    "5. Plot the tree.\n",
    "\n",
    "6. Which features are considered important by the regression tree algorithm? "
   ]
  }
 ],
 "metadata": {
  "kernelspec": {
   "display_name": "Python 3",
   "language": "python",
   "name": "python3"
  },
  "language_info": {
   "codemirror_mode": {
    "name": "ipython",
    "version": 3
   },
   "file_extension": ".py",
   "mimetype": "text/x-python",
   "name": "python",
   "nbconvert_exporter": "python",
   "pygments_lexer": "ipython3",
   "version": "3.7.4"
  }
 },
 "nbformat": 4,
 "nbformat_minor": 2
}
