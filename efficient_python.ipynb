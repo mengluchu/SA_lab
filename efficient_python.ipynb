{
 "cells": [
  {
   "cell_type": "markdown",
   "id": "4d5f5359",
   "metadata": {},
   "source": [
    "Sometimes there are multiple ways to achieve a goal, but some are more efficient. "
   ]
  },
  {
   "cell_type": "code",
   "execution_count": 90,
   "id": "b4b5bc35",
   "metadata": {},
   "outputs": [],
   "source": [
    "import pandas as pd\n",
    "import numpy as np\n",
    "\n",
    "#download data\n",
    "spreadurl = 'https://raw.githubusercontent.com/mengluchu/uncertainty/master/data_vis_exp/DENL17_uc.csv'\n",
    "# load the data\n",
    "ap = pd.read_csv(spreadurl)\n",
    "\n",
    "ap_road = ap.filter (regex=\"road_class_2_50|wkd_day_value\")"
   ]
  },
  {
   "cell_type": "code",
   "execution_count": 91,
   "id": "a7d2f4d0",
   "metadata": {},
   "outputs": [
    {
     "name": "stdout",
     "output_type": "stream",
     "text": [
      "3.21 ms ± 89.5 µs per loop (mean ± std. dev. of 7 runs, 100 loops each)\n"
     ]
    }
   ],
   "source": [
    "def b (df):\n",
    "    if df[\"road_class_2_50\"] > 1:\n",
    "        return(1)\n",
    "    else:\n",
    "        return(0)\n",
    "    \n",
    "%timeit ap_road.apply(b, axis = 1)\n",
    "# this is better than iterrow "
   ]
  },
  {
   "cell_type": "code",
   "execution_count": 92,
   "id": "232b305f",
   "metadata": {},
   "outputs": [
    {
     "name": "stdout",
     "output_type": "stream",
     "text": [
      "123 µs ± 2.2 µs per loop (mean ± std. dev. of 7 runs, 10000 loops each)\n"
     ]
    }
   ],
   "source": [
    "%timeit a = np.where (ap_road[\"road_class_2_50\"]>1, 1, 0) \n",
    "\n"
   ]
  },
  {
   "cell_type": "code",
   "execution_count": 93,
   "id": "443b5436",
   "metadata": {},
   "outputs": [
    {
     "name": "stdout",
     "output_type": "stream",
     "text": [
      "6.31 µs ± 162 ns per loop (mean ± std. dev. of 7 runs, 100000 loops each)\n"
     ]
    }
   ],
   "source": [
    "%timeit np.where (ap_road[\"road_class_2_50\"].values>1, 1, 0) \n",
    "\n",
    "# ap_road[\"road_class_2_50\"].values get an array from a dataframe and can further speed it up.\n"
   ]
  },
  {
   "cell_type": "markdown",
   "id": "8c11ad19",
   "metadata": {},
   "source": [
    "np.select() for multiple if.. then "
   ]
  },
  {
   "cell_type": "code",
   "execution_count": 94,
   "id": "47487cd0",
   "metadata": {},
   "outputs": [
    {
     "name": "stdout",
     "output_type": "stream",
     "text": [
      "67.7 ms ± 1.88 ms per loop (mean ± std. dev. of 7 runs, 10 loops each)\n"
     ]
    }
   ],
   "source": [
    "%timeit ap_road.apply(lambda x: x+1, axis=1)"
   ]
  },
  {
   "cell_type": "code",
   "execution_count": 95,
   "id": "cefe55ca",
   "metadata": {},
   "outputs": [
    {
     "name": "stdout",
     "output_type": "stream",
     "text": [
      "77.9 µs ± 3.26 µs per loop (mean ± std. dev. of 7 runs, 10000 loops each)\n"
     ]
    }
   ],
   "source": [
    "%timeit ap_road+1"
   ]
  },
  {
   "cell_type": "code",
   "execution_count": 96,
   "id": "d50ecb30",
   "metadata": {},
   "outputs": [
    {
     "name": "stderr",
     "output_type": "stream",
     "text": [
      "UsageError: Line magic function `%%timeit` not found.\n"
     ]
    }
   ],
   "source": [
    "# Your home work\n",
    "# given a list, list(range(100))\n",
    "# replace to last ten values by adding a 20 to each of them. e.g. 91 becomes 111.\n",
    "\n",
    "#list comprehension\n",
    "\n",
    "%%timeit\n",
    "nums = list(range(100))\n",
    "nums[-10:]=[x+10 for x in nums[-10:]]\n"
   ]
  },
  {
   "cell_type": "code",
   "execution_count": null,
   "id": "3769a153",
   "metadata": {},
   "outputs": [],
   "source": [
    "#for loop\n",
    "%%timeit\n",
    "\n",
    "nums = list(range(100))\n",
    "\n",
    "counter=10\n",
    " \n",
    "for i in nums[-10:]:\n",
    "    nums[ -counter] = i + 20\n",
    "    counter -= 1\n"
   ]
  },
  {
   "cell_type": "code",
   "execution_count": null,
   "id": "80ad91d5",
   "metadata": {},
   "outputs": [],
   "source": [
    "%%timeit\n",
    "\n",
    "nums = list(range(100))\n",
    "\n",
    "\n",
    "nums_lasttenadd20=nums[90:100]\n",
    "add = []\n",
    "for x in nums_lasttenadd20:\n",
    "    add.append(x + 20)\n"
   ]
  },
  {
   "cell_type": "code",
   "execution_count": null,
   "id": "8c2c0fd3",
   "metadata": {},
   "outputs": [],
   "source": []
  }
 ],
 "metadata": {
  "kernelspec": {
   "display_name": "Python 3",
   "language": "python",
   "name": "python3"
  },
  "language_info": {
   "codemirror_mode": {
    "name": "ipython",
    "version": 3
   },
   "file_extension": ".py",
   "mimetype": "text/x-python",
   "name": "python",
   "nbconvert_exporter": "python",
   "pygments_lexer": "ipython3",
   "version": "3.8.8"
  },
  "toc": {
   "base_numbering": 1,
   "nav_menu": {},
   "number_sections": true,
   "sideBar": true,
   "skip_h1_title": false,
   "title_cell": "Table of Contents",
   "title_sidebar": "Contents",
   "toc_cell": false,
   "toc_position": {},
   "toc_section_display": true,
   "toc_window_display": false
  }
 },
 "nbformat": 4,
 "nbformat_minor": 5
}
